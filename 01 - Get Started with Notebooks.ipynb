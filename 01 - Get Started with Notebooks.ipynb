{
  "cells": [
    {
      "cell_type": "markdown",
      "metadata": {},
      "source": [
        "# 开始使用 Azure 机器学习中的 Notebook\n",
        "\n",
        "Azure 机器学习是一项基于云的服务，用于创建和管理机器学习解决方案。它旨在帮助数据科学家和机器学习工程师利用其现有的数据处理以及模型开发技能和框架，并将他们的工作负载扩展到云。\n",
        "\n",
        "很多数据科学和机器学习工作都是在像这样的笔记本中完成的。笔记本由*单元格*组成，其中一些单元格（例如包含此文本的单元格）包含的是笔记、图形以及其他通常采用 *markdown* 写入的内容；而其他单元格（例如下面的单元格）则包含可以在记事本内交互式地运行的代码。\n",
        "\n",
        "## Azure 机器学习 Python SDK\n",
        "\n",
        "在一个笔记本中，你几乎可以运行任何 Python 代码，只需在运行代码的环境中先安装所需的 Python 包。在本例中，你是在 Azure 机器学习计算实例上的 *Conda* 环境中运行笔记本。该环境默认安装在计算实例中，并包含数据科学家们常用的 Python 包。该环境还包括 Azure 机器学习 Python SDK，借助这个 Python 包，可以编写使用 Azure 机器学习工作区中的资源的代码。\n",
        "\n",
        "运行下方单元格，导入 **azureml-core** 包并检查已安装的 SDK 版本。"
      ]
    },
    {
      "cell_type": "code",
      "execution_count": null,
      "metadata": {},
      "outputs": [],
      "source": [
        "import azureml.core\n",
        "\n",
        "print(\"Ready to use Azure ML\", azureml.core.VERSION)"
      ]
    },
    {
      "cell_type": "markdown",
      "metadata": {},
      "source": [
        "## 连接到工作区\n",
        "\n",
        "所有试验和相关资源都在 Azure 机器学习工作区中进行管理。可以连接到现有工作区，也可以使用 Azure 机器学习 SDK 新建工作区。\n",
        "\n",
        "大多数情况下，应该将工作区连接信息存储在 JSON 配置文件中。这样可以简化连接操作，且无需记住 Azure 订阅 ID 等详细信息。可以在 Azure 门户的工作区中的边栏选项卡中或者 Azure 机器学习工作室的工作区详细信息窗格中下载 JSON 配置文件，但如果在工作区中使用的是计算实例，则该配置文件已下载到根文件夹中。\r\n",
        "\n",
        "以下代码使用配置文件连接到工作区。\n",
        "\n",
        "> **备注**： 首次在笔记本会话中连接到自己的工作区时，系统可能会提示你通过以下方式登录到 Azure：单击 `https://microsoft.com/devicelogin` 链接，输入自动生成的代码并登录 Azure。成功登录后，可以关闭打开的浏览器标签页并返回此笔记本。"
      ]
    },
    {
      "cell_type": "code",
      "execution_count": null,
      "metadata": {},
      "outputs": [],
      "source": [
        "from azureml.core import Workspace\n",
        "\n",
        "ws = Workspace.from_config()\n",
        "print(ws.name, \"loaded\")"
      ]
    },
    {
      "cell_type": "markdown",
      "metadata": {},
      "source": [
        "## 在工作区中查看 Azure 机器学习资源\n",
        "\n",
        "连接到工作区后，可以使用这些资源。例如，你可以使用以下代码枚举工作区中的计算资源。"
      ]
    },
    {
      "cell_type": "code",
      "execution_count": null,
      "metadata": {},
      "outputs": [],
      "source": [
        "print(\"Compute Resources:\")\n",
        "for compute_name in ws.compute_targets:\n",
        "    compute = ws.compute_targets[compute_name]\n",
        "    print(\"\\t\", compute.name, ':', compute.type)"
      ]
    },
    {
      "cell_type": "markdown",
      "metadata": {},
      "source": [
        "浏览完这个笔记本后，你可以保存自己做出的所有更改并关闭它。"
      ]
    }
  ],
  "metadata": {
    "kernelspec": {
      "display_name": "Python 3.6 - AzureML",
      "language": "python",
      "name": "python3-azureml"
    },
    "language_info": {
      "codemirror_mode": {
        "name": "ipython",
        "version": 3
      },
      "file_extension": ".py",
      "mimetype": "text/x-python",
      "name": "python",
      "nbconvert_exporter": "python",
      "pygments_lexer": "ipython3",
      "version": "3.6.9"
    }
  },
  "nbformat": 4,
  "nbformat_minor": 2
}