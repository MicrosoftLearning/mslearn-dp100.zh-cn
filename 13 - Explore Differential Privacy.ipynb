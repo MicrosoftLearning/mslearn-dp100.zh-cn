{
  "cells": [
    {
      "cell_type": "markdown",
      "metadata": {},
      "source": [
        "# 探索差别隐私\r\n",
        "\r\n",
        "在机器学习项目中，通常涉及通过迭代的数据分析过程来洞察数据，并确定哪些变量最有可能帮助构建预测模型。分析数据通常涉及到聚合和统计功能，通过这些功能可以了解变量的统计分布情况以及它们之间的关系。如果数据量很大，聚合功能可以为结果实现一定程度的抽象化；但是如果数据量较小，或者存在重复的分析，那么即使是聚合后的结果也可能会暴露个别观测值的详细信息。\r\n",
        "\r\n",
        "差分隐私这种技术可通过对数据添加“干扰”来保护单个数据点隐私。其目标是确保添加足够的干扰以实现单个值的隐私性，同时确保数据的总体统计组成不变，并且聚合在统计上产生的结果与使用原始数据时相似。\r\n",
        "\r\n",
        "## 安装 SmartNoise SDK\r\n",
        "\r\n",
        "[*SmartNoise*](https://smartnoise.org/) 是来自 OpenDP 的工具包，这是一个 Microsoft 和哈佛大学的研究人员以及其他贡献者共同合作的项目，旨在为在数据分析和机器学习项目中使用差异隐私提供构建块。\r\n",
        "\r\n",
        "> **备注**：SmartNoise 目前处于开发的早期阶段。\r\n",
        "\r\n",
        "首先，我们要安装 SmartNoise Python SDK 包。可以忽略此练习中有关 Azure CLI 兼容性的任何错误。"
      ]
    },
    {
      "cell_type": "code",
      "execution_count": null,
      "metadata": {
        "scrolled": true
      },
      "outputs": [],
      "source": [
        "!pip install opendp-smartnoise==0.1.4.2"
      ]
    },
    {
      "cell_type": "markdown",
      "metadata": {},
      "source": [
        "## 加载数据\r\n",
        "\r\n",
        "现在让我们来看看一些原始数据。在本例中，我们有 10,000 个已接受糖尿病检测的患者记录。"
      ]
    },
    {
      "cell_type": "code",
      "execution_count": null,
      "metadata": {},
      "outputs": [],
      "source": [
        "import pandas as pd\n",
        "\n",
        "data_path = 'data/diabetes.csv'\n",
        "diabetes = pd.read_csv(data_path)\n",
        "diabetes.describe()"
      ]
    },
    {
      "cell_type": "markdown",
      "metadata": {},
      "source": [
        "以上代码的输出显示了糖尿病数据集中变量的关键汇总统计信息。\r\n",
        "\r\n",
        "## 执行分析\r\n",
        "\r\n",
        "你可以使用 SmartNoise 创建一个能为源数据添加干扰的分析。干扰添加之下的数学运算可能相当复杂，不过 SmartNoise 能帮助你处理大部分细节问题。但你需要了解一些概念。\r\n",
        "\r\n",
        "- **上限和下限**：钳位用于设置变量值的上限和下限。这是为了确保 SmartNoise 产生的干扰与原始数据的预期分布一致。\r\n",
        "- **样本大小**：要为部分聚合生成一致的差分隐私数据，SmartNoise 需要知道要生成的数据样本的大小。\r\n",
        "- **Epsilon**：简单地说，*epsilon* 是一个非负值，它提供了对添加到数据中的干扰量的反向度量。如果 epsilon 较低，数据集的隐私级别就更高；如果 epsilon 较高，则数据集会更接近原始数据。Epsilon 的取值通常在 0 到 1 之间。Epsilon 与另一个名为 *delta* 的值相关，该值表示的是某项分析生成的报告并不是完全隐私的概率。\r\n",
        "\r\n",
        "记住这些概念后，检查并运行以下代码，此代码会创建一个分析并报告来自差分隐私数据的平均“**年龄**”值。还显示了初始数据的实际平均值以供比较。"
   ]
  },
  {
   "cell_type": "code",
   "execution_count": null,
   "metadata": {},
   "outputs": [],
   "source": [
    "import opendp.smartnoise.core as sn\n",
    "\n",
    "cols = list(diabetes.columns)\n",
    "age_range = [0.0, 120.0]\n",
    "samples = len(diabetes)\n",
    "\n",
    "with sn.Analysis() as analysis:\n",
    "    # load data\n",
    "    data = sn.Dataset(path=data_path, column_names=cols)\n",
    "    \n",
    "    # Convert Age to float\n",
    "    age_dt = sn.to_float(data['Age'])\n",
    "    \n",
    "    # get mean of age\n",
    "    age_mean = sn.dp_mean(data = age_dt,\n",
    "                          privacy_usage = {'epsilon': .50},\n",
    "                          data_lower = age_range[0],\n",
    "                          data_upper = age_range[1],\n",
    "                          data_rows = samples\n",
    "                         )\n",
    "    \n",
    "analysis.release()\n",
    "\n",
    "# print differentially private estimate of mean age\n",
    "print(\"Private mean age:\",age_mean.value)\n",
    "\n",
    "# print actual mean age\n",
    "print(\"Actual mean age:\",diabetes.Age.mean())"
   ]
  },
  {
   "cell_type": "markdown",
   "metadata": {},
   "source": [
        "## 用直方图探索数据分布情况\r\n",
        "\r\n",
        "直方图常用于分析数据以检查变量分布。\r\n",
        "\r\n",
        "例如，让我们看看糖尿病数据集中年龄的真实分布情况。"
   ]
  },
  {
   "cell_type": "code",
   "execution_count": null,
   "metadata": {},
   "outputs": [],
   "source": [
    "import matplotlib.pyplot as plt\n",
    "import numpy as np\n",
    "%matplotlib inline\n",
    "\n",
    "ages = list(range(0, 130, 10))\n",
    "age = diabetes.Age\n",
    "\n",
    "# Plot a histogram with 10-year bins\n",
    "n_age, bins, patches = plt.hist(age, bins=ages, color='blue', alpha=0.7, rwidth=0.85)\n",
    "plt.grid(axis='y', alpha=0.75)\n",
    "plt.xlabel('Age')\n",
    "plt.ylabel('Frequency')\n",
    "plt.title('True Age Distribution')\n",
    "plt.show()\n",
    "print(n_age.astype(int))"
   ]
  },
  {
   "cell_type": "markdown",
   "metadata": {},
   "source": [
        "现在让我们来比照一下“年龄”的差分隐私直方图。"
   ]
  },
  {
   "cell_type": "code",
   "execution_count": null,
   "metadata": {},
   "outputs": [],
   "source": [
    "import matplotlib.pyplot as plt\n",
    "\n",
    "with sn.Analysis() as analysis:\n",
    "    data = sn.Dataset(path = data_path, column_names = cols)\n",
    "\n",
    "    age_histogram = sn.dp_histogram(\n",
    "            sn.to_int(data['Age'], lower=0, upper=120),\n",
    "            edges = ages,\n",
    "            upper = 10000,\n",
    "            null_value = -1,\n",
    "            privacy_usage = {'epsilon': 0.5}\n",
    "        )\n",
    "    \n",
    "analysis.release()\n",
    "\n",
    "plt.ylim([0,7000])\n",
    "width=4\n",
    "agecat_left = [x + width for x in ages]\n",
    "agecat_right = [x + 2*width for x in ages]\n",
    "plt.bar(list(range(0,120,10)), n_age, width=width, color='blue', alpha=0.7, label='True')\n",
    "plt.bar(agecat_left, age_histogram.value, width=width, color='orange', alpha=0.7, label='Private')\n",
    "plt.legend()\n",
    "plt.title('Histogram of Age')\n",
    "plt.xlabel('Age')\n",
    "plt.ylabel('Frequency')\n",
    "plt.show()\n",
    "\n",
    "print(age_histogram.value)"
   ]
  },
  {
   "cell_type": "markdown",
   "metadata": {},
   "source": [
        "两个直方图的相似程度足以确保基于差分隐私数据的报告与源自原始数据的报告能提供一致的见解。\r\n",
        "\r\n",
        "## 计算协方差\r\n",
        "\r\n",
        "分析的另一个共同目标是建立变量之间的关系。SmartNoise 提供了一个差分隐私协方差函数，可以帮助解决这个问题。"
   ]
  },
  {
   "cell_type": "code",
   "execution_count": null,
   "metadata": {},
   "outputs": [],
   "source": [
    "with sn.Analysis() as analysis:\n",
    "    sn_data = sn.Dataset(path = data_path, column_names = cols)\n",
    "\n",
    "    age_bp_cov_scalar = sn.dp_covariance(\n",
    "                left = sn.to_float(sn_data['Age']),\n",
    "                right = sn.to_float(sn_data['DiastolicBloodPressure']),\n",
    "                privacy_usage = {'epsilon': 1.0},\n",
    "                left_lower = 0.,\n",
    "                left_upper = 120.,\n",
    "                left_rows = 10000,\n",
    "                right_lower = 0.,\n",
    "                right_upper = 150.,\n",
    "                right_rows = 10000)\n",
    "analysis.release()\n",
    "print('Differentially private covariance: {0}'.format(age_bp_cov_scalar.value[0][0]))\n",
    "print('Actual covariance', diabetes.Age.cov(diabetes.DiastolicBloodPressure))"
   ]
  },
  {
   "cell_type": "markdown",
   "metadata": {},
   "source": [
        "在本例中，**Age** 与 **DisatolicBloodPressure** 之间的协方差为正，说明年龄越大，血压越高。\r\n",
        "\r\n",
        "## 使用 SQL 查询\r\n",
        "\r\n",
        "除了**分析**功能之外，通过 SmartNoise 还能对数据源使用 SQL 查询以检索差分隐私聚合生成的结果。\r\n",
        "\r\n",
        "首先，需要为数据架构中的表定义元数据。你可以在 .yml 文件中执行此操作，例如 **/metadata** 文件夹中的 **diabetes.yml** 文件。元数据描述表中的字段，包括数据类型以及数值字段的最小值和最大值。"
   ]
  },
  {
   "cell_type": "code",
   "execution_count": null,
   "metadata": {},
   "outputs": [],
   "source": [
    "from opendp.smartnoise.metadata import CollectionMetadata\n",
    "\n",
    "meta = CollectionMetadata.from_file('metadata/diabetes.yml')\n",
    "print (meta)"
   ]
  },
  {
   "cell_type": "markdown",
   "metadata": {},
   "source": [
        "定义了元数据后，可以创建你可以查询的读取器。在下面的示例中，我们将创建一个 **PandasReader** 来读取 Pandas 数据帧中的原始数据，并创建一个 **PrivateReader**，它将为 **PandasReader** 添加差分隐私层。"
   ]
  },
  {
   "cell_type": "code",
   "execution_count": null,
   "metadata": {
    "scrolled": false
   },
   "outputs": [],
   "source": [
    "from opendp.smartnoise.sql import PandasReader, PrivateReader\n",
    "\n",
    "reader = PandasReader(diabetes, meta)\n",
    "private_reader = PrivateReader(reader=reader, metadata=meta, epsilon_per_column=0.7)\n",
    "print('Readers ready.')"
   ]
  },
  {
   "cell_type": "markdown",
   "metadata": {},
   "source": [
        "现在，你可以向隐私读取器提交一个返回聚合结果集的 SQL 查询。"
   ]
  },
  {
   "cell_type": "code",
   "execution_count": null,
   "metadata": {},
   "outputs": [],
   "source": [
    "query = 'SELECT Diabetic, AVG(Age) AS AvgAge FROM diabetes.diabetes GROUP BY Diabetic'\n",
    "\n",
    "result_dp = private_reader.execute(query)\n",
    "print(result_dp)"
   ]
  },
  {
   "cell_type": "markdown",
   "metadata": {},
   "source": [
        "我们来比较该结果和源于原始数据的相同聚合。"
   ]
  },
  {
   "cell_type": "code",
   "execution_count": null,
   "metadata": {},
   "outputs": [],
   "source": [
    "result = reader.execute(query)\n",
    "print(result)"
   ]
  },
  {
   "cell_type": "markdown",
   "metadata": {},
   "source": [
        "可以使用 **epsilon_per_column** 参数自定义 **PrivateReader** 的行为。\r\n",
        "\r\n",
        "我们来尝试对一个读取器采用较高的 epsilon 值（即隐私度较低）并对另一个读取器采用较低的 epsilon 值（即隐私度较高）。"
   ]
  },
  {
   "cell_type": "code",
   "execution_count": null,
   "metadata": {},
   "outputs": [],
   "source": [
    "low_privacy_reader = PrivateReader(reader, meta, 5.0)  # large epsilon, less privacy\n",
    "result = low_privacy_reader.execute(query)\n",
    "print(result)\n",
    "print()\n",
    "\n",
    "high_privacy_reader = PrivateReader(reader, meta, 0.1)  # smaller epsilon, more privacy\n",
    "result = high_privacy_reader.execute(query)\n",
    "print(result)"
   ]
  },
  {
   "cell_type": "markdown",
   "metadata": {},
   "source": [
        "请注意，高 epsilon 值（隐私度较低）读取器的结果比低 epsilon 值（隐私度较高）读取器的结果更接近源于原始数据的真实结果。\r\n",
        "\r\n",
        "## 拓展阅读\r\n",
        "\r\n",
        "要详细了解 SmartNoise 提供的差分隐私功能，请参阅 [https://smartnoise.org](https://smartnoise.org/)"
   ]
  }
 ],
 "metadata": {
  "kernelspec": {
   "display_name": "Python 3.6 - AzureML",
   "language": "python",
   "name": "python3-azureml"
  },
  "language_info": {
   "codemirror_mode": {
    "name": "ipython",
    "version": 3
   },
   "file_extension": ".py",
   "mimetype": "text/x-python",
   "name": "python",
   "nbconvert_exporter": "python",
   "pygments_lexer": "ipython3",
   "version": "3.6.9"
  }
 },
 "nbformat": 4,
 "nbformat_minor": 4
}